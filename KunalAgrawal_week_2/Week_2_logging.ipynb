{
 "metadata": {
  "language_info": {
   "codemirror_mode": {
    "name": "ipython",
    "version": 3
   },
   "file_extension": ".py",
   "mimetype": "text/x-python",
   "name": "python",
   "nbconvert_exporter": "python",
   "pygments_lexer": "ipython3",
   "version": "3.7.1"
  },
  "orig_nbformat": 2,
  "kernelspec": {
   "name": "python37132bit43e4c69861cc4e7185d7daf0ab1b2b94",
   "display_name": "Python 3.7.1 32-bit"
  },
  "metadata": {
   "interpreter": {
    "hash": "7f9af6948edc73ec62fe2f0271d96474fa545d34db26098f2fa4cb2eea27f98c"
   }
  }
 },
 "nbformat": 4,
 "nbformat_minor": 2,
 "cells": [
  {
   "cell_type": "code",
   "execution_count": 1,
   "metadata": {},
   "outputs": [],
   "source": [
    "import logging \n",
    "\n",
    "logger = logging.getLogger()\n",
    "logger.setLevel(logging.INFO)\n",
    "\n",
    "formatter = logging.Formatter('%(asctime)s:%(name)s:%(message)s')\n",
    "FileHandler = logging.FileHandler('basicLogging.log')\n",
    "FileHandler.setFormatter(formatter)\n",
    "\n",
    "logger.addHandler(FileHandler)\n",
    "\n"
   ]
  },
  {
   "cell_type": "code",
   "execution_count": 2,
   "metadata": {},
   "outputs": [],
   "source": [
    "logger.info(\"This is an info logger\")"
   ]
  },
  {
   "cell_type": "code",
   "execution_count": 3,
   "metadata": {},
   "outputs": [
    {
     "output_type": "execute_result",
     "data": {
      "text/plain": [
       "'\\n2. Write down the skeleton of a function with optionals\\n'"
      ]
     },
     "metadata": {},
     "execution_count": 3
    }
   ],
   "source": [
    "\"\"\"\n",
    "2. Write down the skeleton of a function with optionals\n",
    "\"\"\"\n"
   ]
  },
  {
   "cell_type": "code",
   "execution_count": 4,
   "metadata": {},
   "outputs": [],
   "source": [
    "def myfunc(a,b, *args, **kwargs):\n",
    "   for ar in args:\n",
    "      logger.info(ar)\n",
    "a,b,c,d,e,f = 1,2,3,4,5,6\n",
    "myfunc(a,b,c,d,e,f)"
   ]
  },
  {
   "cell_type": "code",
   "execution_count": null,
   "metadata": {},
   "outputs": [],
   "source": [
    "\n",
    "\"\"\"\n",
    "3. WAF to print \"Hello World\"\n",
    "\"\"\""
   ]
  },
  {
   "cell_type": "code",
   "execution_count": 9,
   "metadata": {},
   "outputs": [],
   "source": [
    "def myfun1():\n",
    "    logger.info(\"Hello world\")\n",
    "\n",
    "myfun1()"
   ]
  },
  {
   "cell_type": "code",
   "execution_count": null,
   "metadata": {},
   "outputs": [],
   "source": [
    "\"\"\"\n",
    "4. WAF which takes name as parameter and prints it\n",
    "\"\"\""
   ]
  },
  {
   "cell_type": "code",
   "execution_count": 12,
   "metadata": {},
   "outputs": [],
   "source": [
    "def myfun2(a,b):\n",
    "    c = a+b\n",
    "    logger.info(c)\n",
    "\n",
    "a = 'kunal'\n",
    "b = 'Agrawal'\n",
    "myfun2(a,b)"
   ]
  },
  {
   "cell_type": "code",
   "execution_count": null,
   "metadata": {},
   "outputs": [],
   "source": [
    "\n",
    "\"\"\"\n",
    "5. WAF which takes number as parameter and prints the square of it\n",
    "\"\"\""
   ]
  },
  {
   "cell_type": "code",
   "execution_count": 13,
   "metadata": {},
   "outputs": [],
   "source": [
    "def myfun(a):\n",
    "    logger.info(a**2)\n",
    "\n",
    "myfun(2)"
   ]
  },
  {
   "cell_type": "code",
   "execution_count": null,
   "metadata": {},
   "outputs": [],
   "source": [
    "\"\"\"\n",
    "6. WAF which takes two number as parameter, calculates the sum of square of the parameters and returns it\n",
    "\"\"\""
   ]
  },
  {
   "cell_type": "code",
   "execution_count": 14,
   "metadata": {},
   "outputs": [],
   "source": [
    "def myfun(a,b):\n",
    "    return a**2 + b**2\n",
    "logger.info(myfun(2,3))"
   ]
  },
  {
   "cell_type": "code",
   "execution_count": null,
   "metadata": {},
   "outputs": [],
   "source": [
    "\"\"\"\n",
    "7. WAF to find factorial of given number\n",
    "\"\"\""
   ]
  },
  {
   "cell_type": "code",
   "execution_count": 15,
   "metadata": {},
   "outputs": [],
   "source": [
    "def fact(n):\n",
    "    fact,i = 1,n\n",
    "    while(i>0):\n",
    "        fact = fact*i\n",
    "        i-=1\n",
    "    return fact\n",
    "\n",
    "logger.info(fact(4))"
   ]
  },
  {
   "cell_type": "code",
   "execution_count": null,
   "metadata": {},
   "outputs": [],
   "source": [
    "\"\"\"\n",
    "8. WAF which takes two paramaters, camculates the sum and product of them and returns.\n",
    "\"\"\""
   ]
  },
  {
   "cell_type": "code",
   "execution_count": 16,
   "metadata": {},
   "outputs": [],
   "source": [
    "def fun(a,b):\n",
    "    return a+b\n",
    "def fun1(a,b):\n",
    "    return a*b\n",
    "\n",
    "logger.info(fun(2,3))\n",
    "logger.info(fun1(2,3))"
   ]
  },
  {
   "cell_type": "code",
   "execution_count": null,
   "metadata": {},
   "outputs": [],
   "source": [
    "\"\"\"\n",
    "10. WAF to get variable length argument and caculate the sum of square of those numbers\n",
    "\n",
    "\"\"\""
   ]
  },
  {
   "cell_type": "code",
   "execution_count": 17,
   "metadata": {},
   "outputs": [
    {
     "output_type": "stream",
     "name": "stdout",
     "text": [
      "(8, 2, 3, 0, 7)\n"
     ]
    }
   ],
   "source": [
    "def sumnum(*numb):\n",
    "    total = 0\n",
    "    print(numb)\n",
    "    for x in range(len(numb)):\n",
    "         total = total + numb[x]**2\n",
    "    return total\n",
    "\n",
    "logger.info(sumnum(8, 2, 3, 0, 7))"
   ]
  },
  {
   "cell_type": "code",
   "execution_count": null,
   "metadata": {},
   "outputs": [],
   "source": [
    "\"\"\"\n",
    "11. WAF to get two parameters as input 1. variable length argument of integers 2. positional parameter and identify whether second parameter is available in the variable length argument\n",
    "\"\"\""
   ]
  },
  {
   "cell_type": "code",
   "execution_count": 20,
   "metadata": {},
   "outputs": [],
   "source": [
    "def fun(a,*args):\n",
    "    for i in range(len(args)):\n",
    "        if a == args[i]:\n",
    "            logger.info(args[i])\n",
    "            \n",
    "fun(1,2,3,4,5,6,1)"
   ]
  },
  {
   "cell_type": "code",
   "execution_count": null,
   "metadata": {},
   "outputs": [],
   "source": [
    "\"\"\"\n",
    "16. WAF to caculate factorial of number using recursion\n",
    "\"\"\""
   ]
  },
  {
   "cell_type": "code",
   "execution_count": 22,
   "metadata": {},
   "outputs": [],
   "source": [
    "def factorial(n):\n",
    "    if(n==1):\n",
    "        return 1\n",
    "    return n*factorial(n-1)\n",
    "logger.info(factorial(7))"
   ]
  },
  {
   "cell_type": "code",
   "execution_count": null,
   "metadata": {},
   "outputs": [],
   "source": [
    "\"\"\"\n",
    "18. Write a lambda function to get square of given number \n",
    "\n",
    "\"\"\"\n"
   ]
  },
  {
   "cell_type": "code",
   "execution_count": 23,
   "metadata": {},
   "outputs": [],
   "source": [
    "square = lambda x: x**2\n",
    "logger.info(square(2))"
   ]
  },
  {
   "cell_type": "code",
   "execution_count": null,
   "metadata": {},
   "outputs": [],
   "source": [
    "\n",
    "\"\"\"\n",
    "19. Write a lambda function to get sum of two given numbers\n",
    "\"\"\"\n"
   ]
  },
  {
   "cell_type": "code",
   "execution_count": 24,
   "metadata": {},
   "outputs": [],
   "source": [
    "sum = lambda x,y: x+y\n",
    "logger.info(sum(2,3))"
   ]
  },
  {
   "cell_type": "code",
   "execution_count": null,
   "metadata": {},
   "outputs": [],
   "source": [
    "\"\"\"\n",
    "20. Write a lambda function to get max of given values\n",
    "\"\"\""
   ]
  },
  {
   "cell_type": "code",
   "execution_count": 25,
   "metadata": {},
   "outputs": [],
   "source": [
    "x = [1,2,3,4,5,6,7]\n",
    "a = lambda x : max(x)\n",
    "logger.info(a(x))\n"
   ]
  },
  {
   "cell_type": "code",
   "execution_count": null,
   "metadata": {},
   "outputs": [],
   "source": [
    "\"\"\"\n",
    "21. WAP to filter even numbers from list by using filter() function \n",
    "\"\"\""
   ]
  },
  {
   "cell_type": "code",
   "execution_count": 26,
   "metadata": {},
   "outputs": [],
   "source": [
    "lis1 = [1,2,3,4,5]\n",
    "  \n",
    "is_even = lambda x: x % 2 == 0\n",
    "lis2 = list(filter(is_even, lis1))\n",
    "logger.info(lis2)"
   ]
  },
  {
   "cell_type": "code",
   "execution_count": null,
   "metadata": {},
   "outputs": [],
   "source": [
    "\"\"\"\n",
    "22.WAP to filter students whoes name starts with \"a\" by using filter() function \n",
    "\"\"\"\n"
   ]
  },
  {
   "cell_type": "code",
   "execution_count": 27,
   "metadata": {},
   "outputs": [],
   "source": [
    "list1 = ['a','c','b','ab','anc']\n",
    "logger.info(list(filter(lambda x : x[0] == 'a' , list1)))"
   ]
  },
  {
   "cell_type": "code",
   "execution_count": null,
   "metadata": {},
   "outputs": [],
   "source": [
    "\"\"\"\n",
    "\n",
    "23. WAP to get list of integers as input and generate another list containing the square of all integers from list one. Write using lambda function and also without using lambda function\n",
    "\n",
    "\"\"\""
   ]
  },
  {
   "cell_type": "code",
   "execution_count": 28,
   "metadata": {},
   "outputs": [],
   "source": [
    "n = 5\n",
    "nums = []\n",
    "for i in range(n):\n",
    "    num = int(input(\"Enter the number: \"))\n",
    "    nums.append(num)\n",
    "logger.info(nums)\n",
    "    \n",
    "logger.info(list(map(lambda n: n ** 2, nums)))"
   ]
  },
  {
   "cell_type": "code",
   "execution_count": null,
   "metadata": {},
   "outputs": [],
   "source": [
    "\n",
    "\"\"\"\n",
    "24. WAP to calculate the sum of al numbers present in the list using reduce()\n",
    "\n",
    "\"\"\""
   ]
  },
  {
   "cell_type": "code",
   "execution_count": 29,
   "metadata": {},
   "outputs": [],
   "source": [
    "from functools import reduce\n",
    "a=[1,2,3,4,5]\n",
    "logger.info(reduce(lambda x,y:x+y,a))"
   ]
  },
  {
   "cell_type": "code",
   "execution_count": null,
   "metadata": {},
   "outputs": [],
   "source": [
    "\"\"\"\n",
    "26. Create the alias of the function defined in the Que 12, print the id of both functions and perform the same set of operations\n",
    "\"\"\""
   ]
  },
  {
   "cell_type": "code",
   "execution_count": 30,
   "metadata": {},
   "outputs": [],
   "source": [
    "def fun(arg1, arg2, arg3=4, arg4=8):\n",
    "    logger.info(str(arg1)+\",\"+str(arg2)+\",\"+str(arg3)+\",\"+str(arg4))\n",
    "        \n",
    "al_fun = fun\n",
    "\n",
    "logger.info(str(id(fun)))\n",
    "logger.info(str(id(al_fun)))"
   ]
  },
  {
   "cell_type": "code",
   "execution_count": null,
   "metadata": {},
   "outputs": [],
   "source": [
    "\"\"\"\n",
    "27. Nested function: Create a function which takes the list of numbers as parameter, calculates the square of every number in the nexted function and returns the final list of squares.\n",
    "\"\"\""
   ]
  },
  {
   "cell_type": "code",
   "execution_count": 31,
   "metadata": {},
   "outputs": [],
   "source": [
    "def list1(*args):\n",
    "    def square():\n",
    "        x = [i*i for i in args]\n",
    "        logger.info(x)\n",
    "    square()\n",
    "list1(1,2,3,4,5)"
   ]
  },
  {
   "cell_type": "code",
   "execution_count": null,
   "metadata": {},
   "outputs": [],
   "source": [
    "\"\"\"\n",
    "30. What will be the output of below \n",
    "\t1. abs(-7.25)\n",
    "\t2. abs(3+5j)\n",
    "\t3. abs(3 - 4j)\n",
    "\t4. round(5.76543, 2)\n",
    "\t5. round(5.76543)\n",
    "\t6. round(-1.2)\n",
    "\t7. arr = [-0.341111, 1.455098989, 4.232323, -0.3432326, 7.626632, 5.122323] what will be values of round(arr, 2) Note: Use numpy to create an array\n",
    "\t\n",
    "\"\"\""
   ]
  },
  {
   "cell_type": "code",
   "execution_count": 33,
   "metadata": {},
   "outputs": [
    {
     "output_type": "error",
     "ename": "TypeError",
     "evalue": "type numpy.ndarray doesn't define __round__ method",
     "traceback": [
      "\u001b[1;31m---------------------------------------------------------------------------\u001b[0m",
      "\u001b[1;31mTypeError\u001b[0m                                 Traceback (most recent call last)",
      "\u001b[1;32m<ipython-input-33-0e6d1bdb92be>\u001b[0m in \u001b[0;36m<module>\u001b[1;34m\u001b[0m\n\u001b[0;32m      9\u001b[0m \u001b[0marr\u001b[0m \u001b[1;33m=\u001b[0m \u001b[0mnp\u001b[0m\u001b[1;33m.\u001b[0m\u001b[0marray\u001b[0m\u001b[1;33m(\u001b[0m\u001b[1;33m[\u001b[0m\u001b[1;33m-\u001b[0m\u001b[1;36m0.341111\u001b[0m\u001b[1;33m,\u001b[0m \u001b[1;36m1.455098989\u001b[0m\u001b[1;33m,\u001b[0m \u001b[1;36m4.232323\u001b[0m\u001b[1;33m,\u001b[0m \u001b[1;33m-\u001b[0m\u001b[1;36m0.3432326\u001b[0m\u001b[1;33m,\u001b[0m \u001b[1;36m7.626632\u001b[0m\u001b[1;33m,\u001b[0m \u001b[1;36m5.122323\u001b[0m\u001b[1;33m]\u001b[0m\u001b[1;33m)\u001b[0m\u001b[1;33m\u001b[0m\u001b[1;33m\u001b[0m\u001b[0m\n\u001b[0;32m     10\u001b[0m \u001b[0mlogger\u001b[0m\u001b[1;33m.\u001b[0m\u001b[0minfo\u001b[0m\u001b[1;33m(\u001b[0m\u001b[0marr\u001b[0m\u001b[1;33m)\u001b[0m\u001b[1;33m\u001b[0m\u001b[1;33m\u001b[0m\u001b[0m\n\u001b[1;32m---> 11\u001b[1;33m \u001b[0mlogger\u001b[0m\u001b[1;33m.\u001b[0m\u001b[0mdebug\u001b[0m\u001b[1;33m(\u001b[0m\u001b[0mround\u001b[0m\u001b[1;33m(\u001b[0m\u001b[0marr\u001b[0m\u001b[1;33m,\u001b[0m\u001b[1;36m2\u001b[0m\u001b[1;33m)\u001b[0m\u001b[1;33m)\u001b[0m\u001b[1;33m\u001b[0m\u001b[1;33m\u001b[0m\u001b[0m\n\u001b[0m",
      "\u001b[1;31mTypeError\u001b[0m: type numpy.ndarray doesn't define __round__ method"
     ]
    }
   ],
   "source": [
    "logger.info(abs(-7.25))\n",
    "logger.info(abs(3+5j))\n",
    "logger.info(abs(-3 - 4j))\n",
    "logger.info(round(5.76543, 2))\n",
    "logger.info(round(5.76543))\n",
    "logger.info(round(-1.2))\n",
    "\n",
    "import numpy as np\n",
    "arr = np.array([-0.341111, 1.455098989, 4.232323, -0.3432326, 7.626632, 5.122323])\n",
    "logger.info(arr)\n",
    "logger.debug(round(arr,2))"
   ]
  },
  {
   "cell_type": "code",
   "execution_count": 34,
   "metadata": {},
   "outputs": [],
   "source": [
    "logger = logging.getLogger()\n",
    "fhandler = logging.FileHandler(filename='custom.log', mode='a')\n",
    "formatter = logging.Formatter('%(asctime)s : %(message)s : %(name)s : %(funcName)s : %(lineno)d')\n",
    "fhandler.setFormatter(formatter)\n",
    "logger.addHandler(fhandler)\n",
    "logger.setLevel(logging.INFO)\n"
   ]
  },
  {
   "cell_type": "code",
   "execution_count": null,
   "metadata": {},
   "outputs": [],
   "source": [
    "\"\"\"\n",
    "31. Print values of all below \n",
    "\tround_num = 15.456\n",
    "\tfinal_val = round(round_num, 2)\n",
    "\tval1=decimal.Decimal(round_num).quantize(decimal.Decimal('0.00'), rounding=decimal.ROUND_CEILING)\n",
    "\tval1=decimal.Decimal(round_num).quantize(decimal.Decimal('0.00'), rounding=decimal.ROUND_DOWN)\n",
    "\tval1=decimal.Decimal(round_num).quantize(decimal.Decimal('0.00'), rounding=decimal.ROUND_FLOOR)\n",
    "\tval1=decimal.Decimal(round_num).quantize(decimal.Decimal('0.00'), rounding=decimal.ROUND_HALF_DOWN)\n",
    "\tval1=decimal.Decimal(round_num).quantize(decimal.Decimal('0.00'), rounding=decimal.ROUND_HALF_EVEN)\n",
    "\tval1=decimal.Decimal(round_num).quantize(decimal.Decimal('0.00'), rounding=decimal.ROUND_HALF_UP)\n",
    "\tval1=decimal.Decimal(round_num).quantize(decimal.Decimal('0.00'), rounding=decimal.ROUND_UP)\n",
    "\"\"\""
   ]
  },
  {
   "cell_type": "code",
   "execution_count": 35,
   "metadata": {},
   "outputs": [],
   "source": [
    "import decimal\n",
    "round_num = 15.456\n",
    "final_val = round(round_num, 2)\n",
    "logger.info(decimal.Decimal(round_num).quantize(decimal.Decimal('0.00'), rounding=decimal.ROUND_CEILING))\n",
    "logger.info(decimal.Decimal(round_num).quantize(decimal.Decimal('0.00'), rounding=decimal.ROUND_FLOOR))\n",
    "logger.info(decimal.Decimal(round_num).quantize(decimal.Decimal('0.00'), rounding=decimal.ROUND_HALF_DOWN))\n",
    "logger.info(decimal.Decimal(round_num).quantize(decimal.Decimal('0.00'), rounding=decimal.ROUND_DOWN))\n",
    "logger.info(decimal.Decimal(round_num).quantize(decimal.Decimal('0.00'), rounding=decimal.ROUND_HALF_EVEN))\n",
    "logger.info(decimal.Decimal(round_num).quantize(decimal.Decimal('0.00'), rounding=decimal.ROUND_HALF_UP))\n",
    "logger.info(decimal.Decimal(round_num).quantize(decimal.Decimal('0.00'), rounding=decimal.ROUND_UP))"
   ]
  },
  {
   "cell_type": "code",
   "execution_count": null,
   "metadata": {},
   "outputs": [],
   "source": [
    "\"\"\"\n",
    "32. WAP to create a sequence of numbers from 3 to 5 using range()\n",
    "\"\"\""
   ]
  },
  {
   "cell_type": "code",
   "execution_count": 36,
   "metadata": {},
   "outputs": [],
   "source": [
    "logger.info(str(list(range(3,6))))"
   ]
  },
  {
   "cell_type": "code",
   "execution_count": null,
   "metadata": {},
   "outputs": [],
   "source": [
    "\"\"\"\n",
    "33. WAP to create a sequence of numbers from 3 to 19, but increment by 2 instead of 1\n",
    "\n",
    "\"\"\""
   ]
  },
  {
   "cell_type": "code",
   "execution_count": 38,
   "metadata": {},
   "outputs": [],
   "source": [
    "logger.info(str(list(range(3,20,2))))"
   ]
  },
  {
   "cell_type": "code",
   "execution_count": null,
   "metadata": {},
   "outputs": [],
   "source": [
    "\"\"\"\n",
    "34. WAP to create a list of even number between the given numbers using range()\n",
    "\"\"\""
   ]
  },
  {
   "cell_type": "code",
   "execution_count": 39,
   "metadata": {},
   "outputs": [],
   "source": [
    "logger.info(str(list(range(0,201,2))))"
   ]
  },
  {
   "cell_type": "code",
   "execution_count": null,
   "metadata": {},
   "outputs": [],
   "source": [
    "\"\"\"\n",
    "35. What will be the output of range(2, -14, -2)\n",
    "\"\"\""
   ]
  },
  {
   "cell_type": "code",
   "execution_count": 40,
   "metadata": {},
   "outputs": [],
   "source": [
    "logger.info([i for i in range(2,-14,-2)])"
   ]
  },
  {
   "cell_type": "code",
   "execution_count": null,
   "metadata": {},
   "outputs": [],
   "source": [
    "\"\"\"\n",
    "WAP to get all square numbers from 1 to 100 using yield. Ex. 1, 4, 9, 16, 25, 36, 49, 64, 81, 100\n",
    "\"\"\"\n"
   ]
  },
  {
   "cell_type": "code",
   "execution_count": 42,
   "metadata": {},
   "outputs": [],
   "source": [
    "def g():\n",
    "    for i in range(100):\n",
    "        yield i*i\n",
    "\n",
    "g = g()\n",
    "for i in g:\n",
    "    logger.info(str(i))"
   ]
  },
  {
   "cell_type": "code",
   "execution_count": null,
   "metadata": {},
   "outputs": [],
   "source": [
    "\"\"\"\n",
    "39. WAP to create digital clock usinf time.sleep. Clock should print the output in hh:mm:ss AM/PM format\n",
    "\"\"\""
   ]
  },
  {
   "cell_type": "code",
   "execution_count": 45,
   "metadata": {},
   "outputs": [],
   "source": [
    "import time\n",
    "logger.info(str(time.strftime(\"%I:%M:%S %p\", time.localtime())))\n",
    "\n",
    "for i in range(10): \n",
    "    logger.info(str(time.strftime(\"%I:%M:%S %p\", time.localtime())))\n",
    "    time.sleep(1)"
   ]
  },
  {
   "cell_type": "code",
   "execution_count": null,
   "metadata": {},
   "outputs": [],
   "source": [
    "\"\"\"\n",
    "40. WAP to print the number from list with pause of 5 seconds\n",
    "\"\"\""
   ]
  },
  {
   "cell_type": "code",
   "execution_count": 44,
   "metadata": {},
   "outputs": [],
   "source": [
    "import time\n",
    " \n",
    "num = input('Pause for how many seconds: ')\n",
    "logger.info('Starting at: '+str(time.ctime()))\n",
    "time.sleep(float(num))\n",
    "logger.info('Stops at: '+str(time.ctime()))"
   ]
  },
  {
   "cell_type": "code",
   "execution_count": null,
   "metadata": {},
   "outputs": [],
   "source": [
    "\"\"\"\n",
    "41. WAP to create the queue using collections.dequeue and perform all the queue operations like append, popleft \n",
    "\"\"\""
   ]
  },
  {
   "cell_type": "code",
   "execution_count": 46,
   "metadata": {},
   "outputs": [],
   "source": [
    "from collections import deque\n",
    "numbers = deque()\n",
    "\n",
    "numbers.append(1)\n",
    "numbers.append(5)\n",
    "numbers.append(1)\n",
    "numbers.append(5)\n",
    "numbers.append(12)\n",
    "numbers.append(1)\n",
    "numbers.append(1)\n",
    "numbers.append(2)\n",
    "numbers.append(5)\n",
    "numbers.append(17)\n",
    "numbers.append(1)\n",
    "\n",
    "numbers.pop()\n",
    "logger.info(str(numbers)) \n",
    "\n",
    "numbers.popleft()\n",
    "logger.info(str(numbers))\n",
    "\n",
    "logger.info(str(numbers.count(12)))\n",
    "\n",
    "numbers.appendleft(25)\n",
    "logger.info(str(numbers))\n",
    "\n",
    "numbers.extend([100,200,400])\n",
    "logger.info(str(numbers))\n",
    "\n",
    "numbers.reverse()\n",
    "logger.info(str(numbers))\n",
    "\n",
    "numbers.extendleft([100,200])\n",
    "logger.info(str(numbers))"
   ]
  },
  {
   "cell_type": "code",
   "execution_count": null,
   "metadata": {},
   "outputs": [],
   "source": [
    "\"\"\"\n",
    "42. WAP to create queue using using queue.Queue andperform below operations on it\n",
    "\t1. maxsize\n",
    "\t2. empty()\n",
    "\t3. full()\n",
    "\t4. get()\n",
    "\t5. get_nowait()\n",
    "\t6. put(item)\n",
    "\t7. put_nowait(item)\n",
    "\t8. qsize()\n",
    "    \"\"\""
   ]
  },
  {
   "cell_type": "code",
   "execution_count": 49,
   "metadata": {},
   "outputs": [],
   "source": [
    "from queue import Queue\n",
    "\n",
    "q = Queue()\n",
    "\n",
    "\n",
    "logger.info(str(q.empty())) # returns True if empty, False otherwise\n",
    "logger.info(str(q.put(4)))\n",
    "logger.info(str(q.get()))\n",
    "logger.info(str(q.put_nowait(6)))\n",
    "logger.info(str(q.maxsize))\n",
    "logger.info(str(q.full()))"
   ]
  },
  {
   "cell_type": "code",
   "execution_count": null,
   "metadata": {},
   "outputs": [],
   "source": [
    "\"\"\"\n",
    "44. Using Counter: WAP to get the count of number of occurences of alphabet present in the list1 = ['x','y','z','x','x','x','y', 'z'] hint : from collections import Counter\n",
    "\"\"\""
   ]
  },
  {
   "cell_type": "code",
   "execution_count": 48,
   "metadata": {},
   "outputs": [],
   "source": [
    "from collections import Counter\n",
    "list1 = ['x','y','z','x','x','x','y', 'z']\n",
    "logger.info(Counter(list1))"
   ]
  },
  {
   "cell_type": "code",
   "execution_count": null,
   "metadata": {},
   "outputs": [],
   "source": [
    "\"\"\"\n",
    "45. What will be the output of below \n",
    "\t\n",
    "\t1. \tmy_str = \"Welcome to python world!\"\n",
    "\t\tCounter(my_str)\n",
    "\n",
    "\t2. \tdict1 =  {'x': 4, 'y': 2, 'z': 2, 'z': 2}\n",
    "\t\tCounter(dict1)\n",
    "\t\t\n",
    "\t3.  tuple1 = ('x','y','z','x','x','x','y','z')\n",
    "\t\tCounter(tuple1)\n",
    "  \"\"\"      "
   ]
  },
  {
   "cell_type": "code",
   "execution_count": null,
   "metadata": {},
   "outputs": [],
   "source": [
    "Counter({'o': 4, ' ': 3, 'e': 2, 'l': 2, 't': 2, 'W': 1, 'c': 1, 'm': 1, 'p': 1, 'y': 1, 'h': 1, 'n': 1, 'w': 1, 'r': 1, 'd': 1, '!': 1})\n",
    "Counter({'x': 4, 'y': 2, 'z': 2})\n",
    "Counter({'x': 4, 'y': 2, 'z': 2})"
   ]
  },
  {
   "cell_type": "code",
   "execution_count": null,
   "metadata": {},
   "outputs": [],
   "source": [
    "\"\"\"\n",
    "46. Update the value of the counter \n",
    "\t\t_count = Counter()\n",
    "\t\t_count.update('Welcome to python world!')\n",
    "\t\tprint(_count)\n",
    "\"\"\""
   ]
  },
  {
   "cell_type": "code",
   "execution_count": 50,
   "metadata": {},
   "outputs": [],
   "source": [
    "_count = Counter()\n",
    "_count.update('Welcome to python world!')\n",
    "logger.info(_count)"
   ]
  },
  {
   "cell_type": "code",
   "execution_count": null,
   "metadata": {},
   "outputs": [],
   "source": [
    "\n",
    "\"\"\"\n",
    "48. WAP to delete element from counter generated in Que 43 \n",
    "\"\"\"\""
   ]
  },
  {
   "cell_type": "code",
   "execution_count": 53,
   "metadata": {},
   "outputs": [],
   "source": [
    "from collections import Counter\n",
    "list1 = ['x','y','z','x','x','x','y', 'z']\n",
    "c=Counter(list1)\n",
    "del c['x']\n",
    "logger.info(c)"
   ]
  },
  {
   "cell_type": "code",
   "execution_count": null,
   "metadata": {},
   "outputs": [],
   "source": [
    "\"\"\"\n",
    "49. SUppoer we have two counter mentioned below \n",
    "counter1 =  Counter({'x': 4, 'y': 2, 'z': -2})\n",
    "counter2 = Counter({'x1': -12, 'y': 5, 'z':4 })\n",
    "Perform below operations on the conters\n",
    "\t1. Addiotion\n",
    "\t2. Subtraction\n",
    "\t3. Intersection\n",
    "\t4. Union\n",
    "    \"\"\"\n",
    "\n"
   ]
  },
  {
   "cell_type": "code",
   "execution_count": 52,
   "metadata": {},
   "outputs": [],
   "source": [
    "from collections import Counter\n",
    "counter1 =  Counter({'x': 4, 'y': 2, 'z': -2})\n",
    "counter2 = Counter({'x1': -12, 'y': 2, 'z':4 })\n",
    "\n",
    "#addition\n",
    "for i,j in counter2.items():\n",
    "    counter1[i]+=j\n",
    "\n",
    "# substraction\n",
    "for i,j in counter2.items():\n",
    "    counter1[i]-=j\n",
    "\n",
    "\n",
    "#Intersection\n",
    "logger.info(set(counter1).intersection(set(counter2)))\n",
    "#Union\n",
    "logger.info(set(counter1).union(set(counter2)))"
   ]
  },
  {
   "cell_type": "code",
   "execution_count": null,
   "metadata": {},
   "outputs": [],
   "source": [
    "\"\"\"\n",
    "50. WAP to get the most common elements from the counter\n",
    "\"\"\""
   ]
  },
  {
   "cell_type": "code",
   "execution_count": null,
   "metadata": {},
   "outputs": [],
   "source": [
    "from collections import Counter\n",
    "counter1 =  Counter({'x': 4, 'y': 2, 'z': -2})\n",
    "logger.info(max(counter1,key=lambda x:counter1[x]))"
   ]
  },
  {
   "cell_type": "code",
   "execution_count": null,
   "metadata": {},
   "outputs": [],
   "source": [
    "\"\"\"\n",
    "51. WAP to get all elements with positive value and count>0 from counter \n",
    "\"\"\""
   ]
  },
  {
   "cell_type": "code",
   "execution_count": 56,
   "metadata": {
    "tags": []
   },
   "outputs": [],
   "source": [
    "from collections import Counter\n",
    "count =  Counter([1,1,1,1,2,2,2,3,5,3,4,5,4,4])\n",
    "for i,j in count.items():\n",
    "    if(i>0 and j>0):\n",
    "        logger.info(i)"
   ]
  },
  {
   "cell_type": "code",
   "execution_count": null,
   "metadata": {},
   "outputs": [],
   "source": [
    "\"\"\"\n",
    "52. WAP to get count of specific element from counter\n",
    "\"\"\""
   ]
  },
  {
   "cell_type": "code",
   "execution_count": 57,
   "metadata": {},
   "outputs": [],
   "source": [
    "from collections import Counter\n",
    "count =  Counter([1,1,1,1,2,2,2,3,5,3,4,5,4,4])\n",
    "logger.info(count[3])"
   ]
  },
  {
   "cell_type": "code",
   "execution_count": null,
   "metadata": {},
   "outputs": [],
   "source": [
    "\"\"\"\n",
    "53. WAP to set count of specific element from counter \n",
    "\"\"\""
   ]
  },
  {
   "cell_type": "code",
   "execution_count": 58,
   "metadata": {},
   "outputs": [],
   "source": [
    "from collections import Counter\n",
    "count =  Counter([1,1,1,1,2,2,2,3,5,3,4,5,4,4])\n",
    "count[3]=10\n",
    "logger.info(count)"
   ]
  },
  {
   "cell_type": "code",
   "execution_count": null,
   "metadata": {},
   "outputs": [],
   "source": [
    "\"\"\"\n",
    "54. Iterate on the below using enumerate() function\n",
    "\tmy_list = [\"eat\",\"sleep\",\"repeat\"]\n",
    "\tmy_str = \"chistats\"\n",
    "\tmy_tuple = (\"A\", \"B\", \"C\", \"D\", \"E\")\n",
    "\tmy_dict = {\"a\": \"PHP\", \"b\":\"JAVA\", \"c\":\"PYTHON\", \"d\":\"NODEJS\"}\n",
    "\tExplain the output of the enumerator\n",
    "    \"\"\""
   ]
  },
  {
   "cell_type": "code",
   "execution_count": 59,
   "metadata": {},
   "outputs": [],
   "source": [
    "my_list = [\"eat\",\"sleep\",\"repeat\"]\n",
    "my_str = \"chistats\"\n",
    "my_tuple = (\"A\", \"B\", \"C\", \"D\", \"E\")\n",
    "my_dict = {\"a\": \"PHP\", \"b\":\"JAVA\", \"c\":\"PYTHON\", \"d\":\"NODEJS\"}\n",
    "\n",
    "for i in enumerate(my_list):\n",
    "    logger.info(i)\n",
    "for i in enumerate(my_str):\n",
    "    logger.info(i)\n",
    "for i in enumerate(my_tuple):\n",
    "    logger.info(i)\n",
    "for i in enumerate(my_dict):\n",
    "    logger.info(i)"
   ]
  },
  {
   "cell_type": "code",
   "execution_count": null,
   "metadata": {},
   "outputs": [],
   "source": []
  }
 ]
}